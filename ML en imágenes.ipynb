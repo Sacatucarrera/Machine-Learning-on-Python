{
 "cells": [
  {
   "cell_type": "raw",
   "metadata": {},
   "source": [
    "*Antes de comenzar estas lineas de código debe instalar las ultimas versiones de los paquetes*\n",
    "- Scikit-learn: Buscando en anaconda scikit-learn o poniendo en el terminal conda install scikit-learn o pip install scikit-learn ---> Más info en https://scikit-learn.org/stable/install.html\n",
    "- Pandas: Buscando en anaconda pandas o poniendo en el terminal conda install pandas o pip install pandas ---> Más info en https://pandas.pydata.org/docs/getting_started/index.html\n",
    "- Numpy: Buscando en anaconda numpy o poniendo en el terminal conda install numpy o pip install numpy ---> Más info en https://numpy.org/install/\n",
    "- Imbalanced-learn: Poniendo en el terminal conda install -c conda-forge imbalanced-learn o pip install -U imbalanced-learn ---> Más info en https://imbalanced-learn.readthedocs.io/en/stable/install.html\n",
    "- Pickle: Poniendo en el terminal pip install pickle ---> Más info si no te funciona en https://stackoverflow.com/questions/48477949/not-able-to-pip-install-pickle-in-python-3-6/48477988\n",
    "- seaborn: Buscando en anaconda seaborn o poniendo en el terminal pip install seaborn o conda install seaborn ---> Más info en https://seaborn.pydata.org/installing.html\n",
    "- matplotlib: Buscando en anaconda matplotlib o poniendo en el terminal pip install -U matplotlib ---> Más info en https://matplotlib.org/users/installing.html"
   ]
  },
  {
   "cell_type": "markdown",
   "metadata": {},
   "source": [
    "# Lectura de datos"
   ]
  },
  {
   "cell_type": "code",
   "execution_count": 14,
   "metadata": {},
   "outputs": [
    {
     "name": "stdout",
     "output_type": "stream",
     "text": [
      "[[ 0.  0.  5. 13.  9.  1.  0.  0.]\n",
      " [ 0.  0. 13. 15. 10. 15.  5.  0.]\n",
      " [ 0.  3. 15.  2.  0. 11.  8.  0.]\n",
      " [ 0.  4. 12.  0.  0.  8.  8.  0.]\n",
      " [ 0.  5.  8.  0.  0.  9.  8.  0.]\n",
      " [ 0.  4. 11.  0.  1. 12.  7.  0.]\n",
      " [ 0.  2. 14.  5. 10. 12.  0.  0.]\n",
      " [ 0.  0.  6. 13. 10.  0.  0.  0.]]\n",
      "0\n"
     ]
    }
   ],
   "source": [
    "#Paquetes para lectura y recuento\n",
    "from sklearn.datasets import load_digits\n",
    "\n",
    "#Obtenemos las imágenes\n",
    "data, target = load_digits(n_class = 10,return_X_y = True)\n",
    "\n",
    "#Representamos una de las imágenes\n",
    "print(data[0].reshape(8,8))\n",
    "print(target[0])"
   ]
  },
  {
   "cell_type": "raw",
   "metadata": {},
   "source": [
    "Podríamos incluso pintarlos..."
   ]
  },
  {
   "cell_type": "code",
   "execution_count": 15,
   "metadata": {},
   "outputs": [
    {
     "data": {
      "text/plain": [
       "<function matplotlib.pyplot.show(*args, **kw)>"
      ]
     },
     "execution_count": 15,
     "metadata": {},
     "output_type": "execute_result"
    },
    {
     "data": {
      "image/png": "[encoded data removed]",
      "text/plain": [
       "<Figure size 288x288 with 1 Axes>"
      ]
     },
     "metadata": {},
     "output_type": "display_data"
    }
   ],
   "source": [
    "#Paquete para graficar datos\n",
    "import matplotlib.pyplot as plt\n",
    "\n",
    "#Métodos para pintar\n",
    "#Pintamos los píxeles\n",
    "plt.matshow(data[0].reshape(8,8), cmap = plt.cm.gray)\n",
    "#Eliminamos los ejes\n",
    "plt.xticks(())\n",
    "plt.yticks(())\n",
    "#Mostramos la gráfica\n",
    "plt.show"
   ]
  },
  {
   "cell_type": "markdown",
   "metadata": {},
   "source": [
    "# Sobremuestreo y entrenamiento del modelo"
   ]
  },
  {
   "cell_type": "markdown",
   "metadata": {},
   "source": [
    "## Analisis de datos"
   ]
  },
  {
   "cell_type": "code",
   "execution_count": 16,
   "metadata": {},
   "outputs": [
    {
     "name": "stdout",
     "output_type": "stream",
     "text": [
      "0: 178\n",
      "1: 182\n",
      "2: 177\n",
      "3: 183\n",
      "4: 181\n",
      "5: 182\n",
      "6: 181\n",
      "7: 179\n",
      "8: 174\n",
      "9: 180\n"
     ]
    }
   ],
   "source": [
    "#Contamos los valores\n",
    "\n",
    "#Inicializacion de la cuenta\n",
    "ceros = 0\n",
    "unos = 0\n",
    "doses = 0\n",
    "treses = 0\n",
    "cuatros = 0\n",
    "cincos = 0\n",
    "seises = 0\n",
    "sietes = 0\n",
    "ochos = 0\n",
    "nueves = 0\n",
    "\n",
    "#Cuenta de datos\n",
    "for x in range(target.shape[0]):\n",
    "    if target[x] == 0:\n",
    "        ceros = ceros + 1\n",
    "    elif target[x] ==1:\n",
    "        unos = unos + 1\n",
    "    elif target[x] ==2:\n",
    "        doses = doses + 1\n",
    "    elif target[x] ==3:\n",
    "        treses = treses + 1\n",
    "    elif target[x] ==4:\n",
    "        cuatros = cuatros + 1\n",
    "    elif target[x] ==5:\n",
    "        cincos = cincos + 1\n",
    "    elif target[x] ==6:\n",
    "        seises = seises + 1\n",
    "    elif target[x] ==7:\n",
    "        sietes = sietes + 1\n",
    "    elif target[x] ==8:\n",
    "        ochos = ochos + 1\n",
    "    else:\n",
    "        nueves = nueves + 1\n",
    "\n",
    "#Representación\n",
    "print(\"0: \" + str(ceros))\n",
    "print(\"1: \" + str(unos))\n",
    "print(\"2: \" + str(doses))\n",
    "print(\"3: \" + str(treses))\n",
    "print(\"4: \" + str(cuatros))\n",
    "print(\"5: \" + str(cincos))\n",
    "print(\"6: \" + str(seises))\n",
    "print(\"7: \" + str(sietes))\n",
    "print(\"8: \" + str(ochos))\n",
    "print(\"9: \" + str(nueves))"
   ]
  },
  {
   "cell_type": "markdown",
   "metadata": {},
   "source": [
    "## Submuestreo"
   ]
  },
  {
   "cell_type": "code",
   "execution_count": 17,
   "metadata": {},
   "outputs": [
    {
     "name": "stdout",
     "output_type": "stream",
     "text": [
      "0: 174\n",
      "1: 174\n",
      "2: 174\n",
      "3: 174\n",
      "4: 174\n",
      "5: 174\n",
      "6: 174\n",
      "7: 174\n",
      "8: 174\n",
      "9: 174\n"
     ]
    }
   ],
   "source": [
    "#Importamos los paquetes\n",
    "from imblearn.under_sampling import NearMiss\n",
    "\n",
    "#Inicialización del método NearMiss\n",
    "nm = NearMiss()\n",
    "\n",
    "#NearMiss. Elimina las muestras más cercanas de la clase más representada\n",
    "dataNm, targetNm = nm.fit_resample(data,target)\n",
    "\n",
    "#Inicializacion de la cuenta\n",
    "ceros = 0\n",
    "unos = 0\n",
    "doses = 0\n",
    "treses = 0\n",
    "cuatros = 0\n",
    "cincos = 0\n",
    "seises = 0\n",
    "sietes = 0\n",
    "ochos = 0\n",
    "nueves = 0\n",
    "\n",
    "#Cuenta de datos\n",
    "for x in range(targetNm.shape[0]):\n",
    "    if targetNm[x] == 0:\n",
    "        ceros = ceros + 1\n",
    "    elif targetNm[x] ==1:\n",
    "        unos = unos + 1\n",
    "    elif targetNm[x] ==2:\n",
    "        doses = doses + 1\n",
    "    elif targetNm[x] ==3:\n",
    "        treses = treses + 1\n",
    "    elif targetNm[x] ==4:\n",
    "        cuatros = cuatros + 1\n",
    "    elif targetNm[x] ==5:\n",
    "        cincos = cincos + 1\n",
    "    elif targetNm[x] ==6:\n",
    "        seises = seises + 1\n",
    "    elif targetNm[x] ==7:\n",
    "        sietes = sietes + 1\n",
    "    elif targetNm[x] ==8:\n",
    "        ochos = ochos + 1\n",
    "    else:\n",
    "        nueves = nueves + 1\n",
    "\n",
    "#Representación\n",
    "print(\"0: \" + str(ceros))\n",
    "print(\"1: \" + str(unos))\n",
    "print(\"2: \" + str(doses))\n",
    "print(\"3: \" + str(treses))\n",
    "print(\"4: \" + str(cuatros))\n",
    "print(\"5: \" + str(cincos))\n",
    "print(\"6: \" + str(seises))\n",
    "print(\"7: \" + str(sietes))\n",
    "print(\"8: \" + str(ochos))\n",
    "print(\"9: \" + str(nueves))"
   ]
  },
  {
   "cell_type": "markdown",
   "metadata": {},
   "source": [
    "## Obtención de los conjuntos de evaluación y entrenamiento"
   ]
  },
  {
   "cell_type": "code",
   "execution_count": 18,
   "metadata": {},
   "outputs": [
    {
     "name": "stdout",
     "output_type": "stream",
     "text": [
      "Forma de los datos de entreno: (1305, 64)\n",
      "Forma de los datos de evaluación: (435, 64)\n"
     ]
    }
   ],
   "source": [
    "#Importamos el paquete\n",
    "from sklearn.model_selection import train_test_split\n",
    "\n",
    "#Dividimos los datos\n",
    "dataTrain, dataTest, targetTrain, targetTest = train_test_split(dataNm,targetNm, random_state = 0)\n",
    "\n",
    "print(\"Forma de los datos de entreno: \" + str(dataTrain.shape))\n",
    "print(\"Forma de los datos de evaluación: \" + str(dataTest.shape))"
   ]
  },
  {
   "cell_type": "markdown",
   "metadata": {},
   "source": [
    "## Red Neuronal"
   ]
  },
  {
   "cell_type": "code",
   "execution_count": 19,
   "metadata": {},
   "outputs": [
    {
     "data": {
      "image/png": "[encoded data removed]",
      "text/plain": [
       "<Figure size 432x288 with 2 Axes>"
      ]
     },
     "metadata": {},
     "output_type": "display_data"
    },
    {
     "name": "stdout",
     "output_type": "stream",
     "text": [
      "Exactitud MLP:  0.9839080459770115\n",
      "Memoria MLP:  0.9839080459770115\n",
      "Precisión MLP:  0.9848093194002122\n",
      "Puntuación MLP:  0.9839024468727601\n"
     ]
    }
   ],
   "source": [
    "#Importamos los paquetes\n",
    "from sklearn.neural_network import MLPClassifier\n",
    "\n",
    "#Los pasos son siempre los mismos\n",
    "#1. Inicialización.\n",
    "modelMLP = MLPClassifier()\n",
    "\n",
    "#2. Entrenamiento del modelo\n",
    "modelMLP.fit(dataTrain, targetTrain)\n",
    "\n",
    "#3. Predicción con el modelo\n",
    "targetPred = modelMLP.predict(dataTest)\n",
    "\n",
    "#4. Muestra de resultados\n",
    "from sklearn.metrics import confusion_matrix\n",
    "import seaborn as sn\n",
    "import pandas as pd\n",
    "import matplotlib.pyplot as plt\n",
    "array = confusion_matrix(targetPred, targetTest)\n",
    "df_cm = pd.DataFrame(array)\n",
    "\n",
    "#Representación de la matriz de confusión\n",
    "sn.set(font_scale=1)\n",
    "plt.show(sn.heatmap(df_cm, annot=True, annot_kws={\"size\": 16}, cmap = 'Reds')) \n",
    "\n",
    "#Evaluación\n",
    "\n",
    "#Paquete\n",
    "from sklearn.metrics import accuracy_score, recall_score, precision_score, f1_score\n",
    "\n",
    "print('Exactitud MLP: ', accuracy_score(targetPred,targetTest))\n",
    "print('Memoria MLP: ', recall_score(targetPred,targetTest,average='weighted'))\n",
    "print('Precisión MLP: ', precision_score(targetPred,targetTest,average='weighted'))\n",
    "print('Puntuación MLP: ', f1_score(targetPred,targetTest,average='weighted'))"
   ]
  },
  {
   "cell_type": "markdown",
   "metadata": {},
   "source": [
    "## Visualización de los fallos "
   ]
  },
  {
   "cell_type": "code",
   "execution_count": 22,
   "metadata": {},
   "outputs": [
    {
     "name": "stdout",
     "output_type": "stream",
     "text": [
      "Valor real:  5\n",
      "Valor predicho:  6\n"
     ]
    },
    {
     "data": {
      "image/png": "[encoded data removed]",
      "text/plain": [
       "<Figure size 288x288 with 1 Axes>"
      ]
     },
     "metadata": {},
     "output_type": "display_data"
    }
   ],
   "source": [
    "#Obtenemos los errores\n",
    "errores = dataTest[targetPred != targetTest]\n",
    "valorReal = targetTest[targetPred != targetTest]\n",
    "valorPredicho = targetPred[targetPred != targetTest]\n",
    "\n",
    "#Selección del valor a pintar\n",
    "nValor = 2\n",
    "\n",
    "#Pintamos los píxeles\n",
    "plt.matshow(errores[nValor].reshape(8,8), cmap = plt.cm.gray)\n",
    "#Eliminamos los ejes\n",
    "plt.xticks(())\n",
    "plt.yticks(())\n",
    "#Mostramos la gráfica\n",
    "plt.show\n",
    "print(\"Valor real: \", valorReal[nValor])\n",
    "print(\"Valor predicho: \", valorPredicho[nValor])"
   ]
  },
  {
   "cell_type": "raw",
   "metadata": {},
   "source": [
    "Sobre las guías de usuario de estos 3 paquetes puede encontrar todas sus funcionalidades. En los siguientes código usaremos más funciones de ellos:\n",
    "- Scikit-learn: https://scikit-learn.org/stable/user_guide.html\n",
    "- Pandas: https://pandas.pydata.org/docs/user_guide/index.html\n",
    "- Numpy: https://numpy.org/doc/stable/\n",
    "- Imbalanced-learn: https://imbalanced-learn.readthedocs.io/en/stable/user_guide.html\n",
    "- Pickle: https://docs.python.org/3/library/pickle.html\n",
    "- Seaborn: https://seaborn.pydata.org/installing.html\n",
    "- Matplotlib: https://matplotlib.org/users/index.html"
   ]
  }
 ],
 "metadata": {
  "kernelspec": {
   "display_name": "Python 3",
   "language": "python",
   "name": "python3"
  },
  "language_info": {
   "codemirror_mode": {
    "name": "ipython",
    "version": 3
   },
   "file_extension": ".py",
   "mimetype": "text/x-python",
   "name": "python",
   "nbconvert_exporter": "python",
   "pygments_lexer": "ipython3",
   "version": "3.7.6"
  }
 },
 "nbformat": 4,
 "nbformat_minor": 4
}
