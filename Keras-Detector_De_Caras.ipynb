{
 "cells": [
  {
   "cell_type": "raw",
   "metadata": {},
   "source": [
    "*Antes de comenzar estas lineas de código debe instalar las ultimas versiones de los paquetes*\n",
    "- Scikit-learn: Buscando en anaconda scikit-learn o poniendo en el terminal conda install scikit-learn o pip install scikit-learn ---> Más info en https://scikit-learn.org/stable/install.html\n",
    "- Pandas: Buscando en anaconda pandas o poniendo en el terminal conda install pandas o pip install pandas ---> Más info en https://pandas.pydata.org/docs/getting_started/index.html\n",
    "- Numpy: Buscando en anaconda numpy o poniendo en el terminal conda install numpy o pip install numpy ---> Más info en https://numpy.org/install/\n",
    "- Imbalanced-learn: Poniendo en el terminal conda install -c conda-forge imbalanced-learn o pip install -U imbalanced-learn ---> Más info en https://imbalanced-learn.readthedocs.io/en/stable/install.html\n",
    "- Pickle: Poniendo en el terminal pip install pickle ---> Más info si no te funciona en https://stackoverflow.com/questions/48477949/not-able-to-pip-install-pickle-in-python-3-6/48477988\n",
    "- seaborn: Buscando en anaconda seaborn o poniendo en el terminal pip install seaborn o conda install seaborn ---> Más info en https://seaborn.pydata.org/installing.html\n",
    "- matplotlib: Buscando en anaconda matplotlib o poniendo en el terminal pip install -U matplotlib ---> Más info en https://matplotlib.org/users/installing.html\n",
    "- Keras: Buscando e instalando en anaconda los módulos de tensorflow y keras. También se pueden instalar usando los comandos pip install tensorflow y pip install keras ---> Más infor en https://keras.io/about/\n",
    "- OpenCV: Buscando e instalando en anaconda OpenCV. También se puede instalar usando los comandos pip install opencv-python o usando conda install -c conda-forge opencv ---> Más info en https://anaconda.org/conda-forge/opencv\n",
    "\n",
    "Modelo de red neuronal: https://github.com/opencv/opencv -> Cogerlo de la carpeta data->haarcascades->haarcascade_frontalface_default.xml'. Ponerlo en la misma carpeta que este archivo."
   ]
  },
  {
   "cell_type": "markdown",
   "metadata": {},
   "source": [
    "# Deteccion de caras"
   ]
  },
  {
   "cell_type": "markdown",
   "metadata": {},
   "source": [
    "## Carga del modelo"
   ]
  },
  {
   "cell_type": "code",
   "execution_count": 1,
   "metadata": {},
   "outputs": [],
   "source": [
    "#Paquetes que vamos a utilizar\n",
    "import cv2 #Paquete de opencv\n",
    "import numpy as np\n",
    "import time\n",
    "from tensorflow.keras.models import load_model\n",
    "from tensorflow.keras.preprocessing.image import img_to_array\n",
    "\n",
    "#Cargamos el detector de caras usando la ruta que nos lleva a el\n",
    "Detector_Caras = 'haarcascade_frontalface_default.xml'\n",
    "#Y declarando que es una red neuronal en cascada\n",
    "detector_caras = cv2.CascadeClassifier(Detector_Caras)"
   ]
  },
  {
   "cell_type": "code",
   "execution_count": 5,
   "metadata": {},
   "outputs": [],
   "source": [
    "#Comprobamos el tipo de clasificador que hemos cargado\n",
    "detector_caras"
   ]
  },
  {
   "cell_type": "markdown",
   "metadata": {},
   "source": [
    "## Funcionamiento del modelo"
   ]
  },
  {
   "cell_type": "raw",
   "metadata": {},
   "source": [
    "Detectaremos las caras que se encuentren en un video."
   ]
  },
  {
   "cell_type": "code",
   "execution_count": 4,
   "metadata": {},
   "outputs": [],
   "source": [
    "#Primero se captura la primera entrada del video\n",
    "cap = cv2.VideoCapture(0)\n",
    "\n",
    "#Hasta que detengamos la ejecucion del detector\n",
    "while True:\n",
    "\n",
    "    #Leemos la imagen capturada\n",
    "    _, img = cap.read()\n",
    "\n",
    "    #Pasamos la imagen a escala de grises para que el modelo pueda detectar la cara\n",
    "    imgGris = cv2.cvtColor(img, cv2.COLOR_BGR2GRAY)\n",
    "\n",
    "    #Detectamos las caras. La escala de las caras debe tener un factor minimo de 1.1 y tener 4 vecinos al menos.\n",
    "    caras = detector_caras.detectMultiScale(imgGris, 1.1, 4)\n",
    "\n",
    "    #Dentro de las caras detectadas\n",
    "    #Variable para indicar la cara detectada\n",
    "    Ncara = 1\n",
    "    \n",
    "    for (x, y, w, h) in caras:\n",
    "\n",
    "        #Definimos qué es la cara\n",
    "        cara = img[y:y+h, x:x+w]\n",
    "\n",
    "        #La pasamos a color\n",
    "        cara = cv2.cvtColor(cara, cv2.COLOR_BGR2RGB)\n",
    "\n",
    "        #Definimos la etiqueta y el color del rectángulo que va a recubrir la cara\n",
    "        etiqueta = \"Cara numero \" + str(Ncara)\n",
    "        color = (0, 0, 255) #(B,G,R)\n",
    "        \n",
    "        #Sumamos 1 al valor de la cara\n",
    "        Ncara = Ncara + 1\n",
    "        \n",
    "        #Ponemos el texto y el color del rectángulo\n",
    "        cv2.putText(img, etiqueta, (x, y - 10),cv2.FONT_HERSHEY_SIMPLEX, 0.45, color, 2)\n",
    "        cv2.rectangle(img, (x, y), (x+w, y+h), color, 2)\n",
    "        \n",
    "    #Todo ello hasta que se presione una tecla y salgamos del bucle\n",
    "    k = cv2.waitKey(30) & 0xff\n",
    "    if k==27:\n",
    "        break\n",
    "        \n",
    "    #Mostramos la imagen\n",
    "    cv2.imshow('img', img)\n",
    "\n",
    "#Cerramos el clasificador de caras\n",
    "cap.release()"
   ]
  },
  {
   "cell_type": "raw",
   "metadata": {},
   "source": [
    "Sobre las guías de usuario de estos 3 paquetes puede encontrar todas sus funcionalidades. En los siguientes código usaremos más funciones de ellos:\n",
    "- Scikit-learn: https://scikit-learn.org/stable/user_guide.html\n",
    "- Pandas: https://pandas.pydata.org/docs/user_guide/index.html\n",
    "- Numpy: https://numpy.org/doc/stable/\n",
    "- Imbalanced-learn: https://imbalanced-learn.readthedocs.io/en/stable/user_guide.html\n",
    "- Pickle: https://docs.python.org/3/library/pickle.html\n",
    "- Seaborn: https://seaborn.pydata.org/installing.html\n",
    "- Matplotlib: https://matplotlib.org/users/index.html\n",
    "- Keras: https://keras.io/guides/\n",
    "- OpenCV: https://docs.opencv.org/master/index.html"
   ]
  }
 ],
 "metadata": {
  "kernelspec": {
   "display_name": "Python 3",
   "language": "python",
   "name": "python3"
  },
  "language_info": {
   "codemirror_mode": {
    "name": "ipython",
    "version": 3
   },
   "file_extension": ".py",
   "mimetype": "text/x-python",
   "name": "python",
   "nbconvert_exporter": "python",
   "pygments_lexer": "ipython3",
   "version": "3.7.6"
  }
 },
 "nbformat": 4,
 "nbformat_minor": 4
}
