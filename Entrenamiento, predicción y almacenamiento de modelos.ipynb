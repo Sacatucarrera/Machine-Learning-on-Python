{
 "cells": [
  {
   "cell_type": "raw",
   "metadata": {},
   "source": [
    "*Antes de comenzar estas lineas de código debe instalar las ultimas versiones de los paquetes*\n",
    "- Scikit-learn: Buscando en anaconda scikit-learn o poniendo en el terminal conda install scikit-learn o pip install scikit-learn ---> Más info en https://scikit-learn.org/stable/install.html\n",
    "- Pandas: Buscando en anaconda pandas o poniendo en el terminal conda install pandas o pip install pandas ---> Más info en https://pandas.pydata.org/docs/getting_started/index.html\n",
    "- Numpy: Buscando en anaconda numpy o poniendo en el terminal conda install numpy o pip install numpy ---> Más info en https://numpy.org/install/\n",
    "- Imbalanced-learn: Poniendo en el terminal conda install -c conda-forge imbalanced-learn o pip install -U imbalanced-learn ---> Más info en https://imbalanced-learn.readthedocs.io/en/stable/install.html\n",
    "- Pickle: Poniendo en el terminal pip install pickle ---> Más info si no te funciona en https://stackoverflow.com/questions/48477949/not-able-to-pip-install-pickle-in-python-3-6/48477988\n",
    "- seaborn: Buscando en anaconda seaborn o poniendo en el terminal pip install seaborn o conda install seaborn ---> Más info en https://seaborn.pydata.org/installing.html\n",
    "- matplotlib: Buscando en anaconda matplotlib o poniendo en el terminal pip install -U matplotlib ---> Más info en https://matplotlib.org/users/installing.html"
   ]
  },
  {
   "cell_type": "markdown",
   "metadata": {},
   "source": [
    "# Lectura y balanceo de datos"
   ]
  },
  {
   "cell_type": "code",
   "execution_count": 12,
   "metadata": {},
   "outputs": [],
   "source": [
    "#Paquetes para lectura y recuento\n",
    "from sklearn.datasets import load_breast_cancer\n",
    "import pandas as pd\n",
    "\n",
    "#Primero importamos los datos que vamos a leer\n",
    "cancer_data = load_breast_cancer()\n",
    "\n",
    "#Pasamos los datos a un DataFrame (datos en pandas)\n",
    "data = pd.DataFrame(cancer_data['data'], columns = cancer_data['feature_names'])\n",
    "target = pd.DataFrame(cancer_data['target'],columns = ['Tumor Type'])\n",
    "\n",
    "#Si quisieramos coger solo unas características\n",
    "data = data[['mean radius', 'mean texture']] \n",
    "data"
   ]
  },
  {
   "cell_type": "code",
   "execution_count": 14,
   "metadata": {},
   "outputs": [],
   "source": [
    "#Importamos los paquetes de sobremuestreo\n",
    "from imblearn.over_sampling import SMOTE\n",
    "\n",
    "#SMOTE\n",
    "smote = SMOTE()\n",
    "\n",
    "#Generación de nuevas muestras sintéticas\n",
    "dataSmote, targetSmote = smote.fit_resample(data,target)\n",
    "\n",
    "#Representación\n",
    "dataSmote"
   ]
  },
  {
   "cell_type": "markdown",
   "metadata": {},
   "source": [
    "# Entrenamiento y evaluación de modelos"
   ]
  },
  {
   "cell_type": "markdown",
   "metadata": {},
   "source": [
    "## Regresión logística"
   ]
  },
  {
   "cell_type": "code",
   "execution_count": 15,
   "metadata": {},
   "outputs": [],
   "source": [
    "#Importamos los paquetes\n",
    "from sklearn.linear_model import LogisticRegression\n",
    "\n",
    "#Los pasos son siempre los mismos\n",
    "#1. Inicialización.\n",
    "modelLR = LogisticRegression()\n",
    "\n",
    "#2. División de datos en conjunto de evaluación y conjunto de entrenamiento\n",
    "from sklearn.model_selection import train_test_split\n",
    "dataTrain, dataTest, targetTrain, targetTest = train_test_split(data,target, random_state = 0)\n",
    "\n",
    "#3. Entrenamiento del modelo\n",
    "modelLR.fit(dataTrain, targetTrain)\n",
    "\n",
    "#4. Predicción con el modelo\n",
    "targetPred = modelLR.predict(dataTest)\n",
    "\n",
    "#5. Muestra de resultados\n",
    "from sklearn.metrics import confusion_matrix\n",
    "import seaborn as sn\n",
    "import pandas as pd\n",
    "import matplotlib.pyplot as plt\n",
    "\n",
    "array = confusion_matrix(targetPred, targetTest)\n",
    "df_cm = pd.DataFrame(array)\n",
    "\n",
    "#Representación de la matriz de confusión\n",
    "sn.set(font_scale=1)\n",
    "plt.show(sn.heatmap(df_cm, annot=True, annot_kws={\"size\": 16}, cmap = 'Reds')) "
   ]
  },
  {
   "cell_type": "markdown",
   "metadata": {},
   "source": [
    "## Arbol de decisión"
   ]
  },
  {
   "cell_type": "code",
   "execution_count": 16,
   "metadata": {},
   "outputs": [],
   "source": [
    "#Importamos los paquetes\n",
    "from sklearn.tree import DecisionTreeClassifier\n",
    "\n",
    "#Los pasos son siempre los mismos\n",
    "#1. Inicialización.\n",
    "modelDT = DecisionTreeClassifier()\n",
    "\n",
    "#2. División de datos en conjunto de evaluación y conjunto de entrenamiento\n",
    "from sklearn.model_selection import train_test_split\n",
    "dataTrain, dataTest, targetTrain, targetTest = train_test_split(data,target, random_state = 0)\n",
    "\n",
    "#3. Entrenamiento del modelo\n",
    "modelDT.fit(dataTrain, targetTrain)\n",
    "\n",
    "#4. Predicción con el modelo\n",
    "targetPred = modelDT.predict(dataTest)\n",
    "\n",
    "#5. Muestra de resultados\n",
    "array = confusion_matrix(targetPred, targetTest)\n",
    "df_cm = pd.DataFrame(array)\n",
    "\n",
    "#Representación de la matriz de confusión\n",
    "sn.set(font_scale=1)\n",
    "plt.show(sn.heatmap(df_cm, annot=True, annot_kws={\"size\": 16}, cmap = 'Reds')) "
   ]
  },
  {
   "cell_type": "markdown",
   "metadata": {},
   "source": [
    "## Bosque aleatorio"
   ]
  },
  {
   "cell_type": "code",
   "execution_count": 17,
   "metadata": {},
   "outputs": [],
   "source": [
    "#Importamos los paquetes\n",
    "from sklearn.ensemble import RandomForestClassifier\n",
    "\n",
    "#Los pasos son siempre los mismos\n",
    "#1. Inicialización.\n",
    "modelRF = RandomForestClassifier()\n",
    "\n",
    "#2. División de datos en conjunto de evaluación y conjunto de entrenamiento\n",
    "from sklearn.model_selection import train_test_split\n",
    "dataTrain, dataTest, targetTrain, targetTest = train_test_split(data,target, random_state = 0)\n",
    "\n",
    "#3. Entrenamiento del modelo\n",
    "modelRF.fit(dataTrain, targetTrain)\n",
    "\n",
    "#4. Predicción con el modelo\n",
    "targetPred = modelRF.predict(dataTest)\n",
    "\n",
    "#5. Muestra de resultados\n",
    "array = confusion_matrix(targetPred, targetTest)\n",
    "df_cm = pd.DataFrame(array)\n",
    "\n",
    "#Representación de la matriz de confusión\n",
    "sn.set(font_scale=1)\n",
    "plt.show(sn.heatmap(df_cm, annot=True, annot_kws={\"size\": 16}, cmap = 'Reds')) "
   ]
  },
  {
   "cell_type": "markdown",
   "metadata": {},
   "source": [
    "## Red neuronal MLP"
   ]
  },
  {
   "cell_type": "code",
   "execution_count": 18,
   "metadata": {},
   "outputs": [],
   "source": [
    "#Importamos los paquetes\n",
    "from sklearn.neural_network import MLPClassifier\n",
    "\n",
    "#Los pasos son siempre los mismos\n",
    "#1. Inicialización.\n",
    "modelMLP = MLPClassifier()\n",
    "\n",
    "#2. División de datos en conjunto de evaluación y conjunto de entrenamiento\n",
    "from sklearn.model_selection import train_test_split\n",
    "dataTrain, dataTest, targetTrain, targetTest = train_test_split(data,target, random_state = 0)\n",
    "\n",
    "#3. Entrenamiento del modelo\n",
    "modelMLP.fit(dataTrain, targetTrain)\n",
    "\n",
    "#4. Predicción con el modelo\n",
    "targetPred = modelMLP.predict(dataTest)\n",
    "\n",
    "#5. Muestra de resultados\n",
    "array = confusion_matrix(targetPred, targetTest)\n",
    "df_cm = pd.DataFrame(array)\n",
    "\n",
    "#Representación de la matriz de confusión\n",
    "sn.set(font_scale=1)\n",
    "plt.show(sn.heatmap(df_cm, annot=True, annot_kws={\"size\": 16}, cmap = 'Reds')) "
   ]
  },
  {
   "cell_type": "markdown",
   "metadata": {},
   "source": [
    "## Almacenamiento de modelos"
   ]
  },
  {
   "cell_type": "code",
   "execution_count": 21,
   "metadata": {},
   "outputs": [],
   "source": [
    "#Importamos los paquetes\n",
    "import pickle\n",
    "\n",
    "#Damos el nombre al fichero\n",
    "filename = 'modelMLP.model'\n",
    "\n",
    "#Guardamos el modelo\n",
    "pickle.dump(modelMLP, open(filename, 'wb'))"
   ]
  },
  {
   "cell_type": "code",
   "execution_count": 22,
   "metadata": {},
   "outputs": [],
   "source": [
    "#Que luego puede ser recuperado para usarse en otro fichero\n",
    "modelMLP2 = pickle.load(open('modelMLP.model','rb'))\n",
    "modelMLP2 == modelMLP"
   ]
  },
  {
   "cell_type": "raw",
   "metadata": {},
   "source": [
    "Sobre las guías de usuario de estos 3 paquetes puede encontrar todas sus funcionalidades. En los siguientes código usaremos más funciones de ellos:\n",
    "- Scikit-learn: https://scikit-learn.org/stable/user_guide.html\n",
    "- Pandas: https://pandas.pydata.org/docs/user_guide/index.html\n",
    "- Numpy: https://numpy.org/doc/stable/\n",
    "- Imbalanced-learn: https://imbalanced-learn.readthedocs.io/en/stable/user_guide.html\n",
    "- Pickle: https://docs.python.org/3/library/pickle.html\n",
    "- Seaborn: https://seaborn.pydata.org/installing.html\n",
    "- Matplotlib: https://matplotlib.org/users/index.html"
   ]
  }
 ],
 "metadata": {
  "kernelspec": {
   "display_name": "Python 3",
   "language": "python",
   "name": "python3"
  },
  "language_info": {
   "codemirror_mode": {
    "name": "ipython",
    "version": 3
   },
   "file_extension": ".py",
   "mimetype": "text/x-python",
   "name": "python",
   "nbconvert_exporter": "python",
   "pygments_lexer": "ipython3",
   "version": "3.7.6"
  }
 },
 "nbformat": 4,
 "nbformat_minor": 4
}
