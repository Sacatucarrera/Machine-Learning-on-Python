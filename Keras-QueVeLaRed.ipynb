{
 "cells": [
  {
   "cell_type": "raw",
   "metadata": {},
   "source": [
    "*Antes de comenzar estas lineas de código debe instalar las ultimas versiones de los paquetes*\n",
    "- Scikit-learn: Buscando en anaconda scikit-learn o poniendo en el terminal conda install scikit-learn o pip install scikit-learn ---> Más info en https://scikit-learn.org/stable/install.html\n",
    "- Pandas: Buscando en anaconda pandas o poniendo en el terminal conda install pandas o pip install pandas ---> Más info en https://pandas.pydata.org/docs/getting_started/index.html\n",
    "- Numpy: Buscando en anaconda numpy o poniendo en el terminal conda install numpy o pip install numpy ---> Más info en https://numpy.org/install/\n",
    "- Imbalanced-learn: Poniendo en el terminal conda install -c conda-forge imbalanced-learn o pip install -U imbalanced-learn ---> Más info en https://imbalanced-learn.readthedocs.io/en/stable/install.html\n",
    "- Pickle: Poniendo en el terminal pip install pickle ---> Más info si no te funciona en https://stackoverflow.com/questions/48477949/not-able-to-pip-install-pickle-in-python-3-6/48477988\n",
    "- seaborn: Buscando en anaconda seaborn o poniendo en el terminal pip install seaborn o conda install seaborn ---> Más info en https://seaborn.pydata.org/installing.html\n",
    "- matplotlib: Buscando en anaconda matplotlib o poniendo en el terminal pip install -U matplotlib ---> Más info en https://matplotlib.org/users/installing.html\n",
    "- Keras: Buscando e instalando en anaconda los módulos de tensorflow y keras. También se pueden instalar usando los comandos pip install tensorflow y pip install keras ---> Más infor en https://keras.io/about/"
   ]
  },
  {
   "cell_type": "markdown",
   "metadata": {},
   "source": [
    "# Generacion de la red"
   ]
  },
  {
   "cell_type": "raw",
   "metadata": {},
   "source": [
    "Primero se va a generar la red neuronal cuyo proceso de entrenamiento vamos a visualizar."
   ]
  },
  {
   "cell_type": "code",
   "execution_count": 1,
   "metadata": {},
   "outputs": [],
   "source": [
    "#Paquetes que importamos\n",
    "import numpy as np\n",
    "import tensorflow as tf\n",
    "from tensorflow import keras\n",
    "\n",
    "# Cargaremos en este caso un modelo de red neuronal ya entrenado (ResNet50V2)\n",
    "model = keras.applications.ResNet50V2(weights=\"imagenet\", include_top=False) #Tomamos los pesos de la red entrenada con imagenet y sin incluir la capa fullyconnected\n"
   ]
  },
  {
   "cell_type": "raw",
   "metadata": {},
   "source": [
    "Visualizamos el modelo"
   ]
  },
  {
   "cell_type": "code",
   "execution_count": 33,
   "metadata": {},
   "outputs": [],
   "source": [
    "model.summary()"
   ]
  },
  {
   "cell_type": "code",
   "execution_count": 31,
   "metadata": {},
   "outputs": [],
   "source": [
    "#Capa de la que veremos la salida\n",
    "capa = \"conv5_block3_out\"#\"conv2_block2_out\" #\"conv5_block3_out\" #\"conv3_block4_out\"\n",
    "\n",
    "#Tomamos la capa del modelo y definimos su salida como el extractor de caracteristicas\n",
    "Capa_salida = model.get_layer(name=capa)\n",
    "Extractor_caracteristicas = keras.Model(inputs=model.inputs, outputs=Capa_salida.output)"
   ]
  },
  {
   "cell_type": "markdown",
   "metadata": {},
   "source": [
    "# Funciones para visualizar el proceso de entrenamiento"
   ]
  },
  {
   "cell_type": "raw",
   "metadata": {},
   "source": [
    "Proceso de entrenamiento"
   ]
  },
  {
   "cell_type": "code",
   "execution_count": 4,
   "metadata": {},
   "outputs": [],
   "source": [
    "def calculo_perdida(imagen_de_entrada, indice_filtro): #Computa el error que se obtiene sobre la imagen\n",
    "    \n",
    "    #Calculamos la salida que genera la imagen de entrada\n",
    "    activacion = Extractor_caracteristicas(imagen_de_entrada)\n",
    "    \n",
    "    #Y tomamos los resultados del filtro de convolucion que vamos a visualizar\n",
    "    filtro = activacion[:, 2:-2, 2:-2, indice_filtro]\n",
    "    \n",
    "    #Y devolvemos el error (su media)\n",
    "    return tf.reduce_mean(filtro)\n",
    "\n",
    "def paso_gradiente(imagen, indice_filtro, tasa_aprendizaje):\n",
    "    \n",
    "    #La Funcion gradientTape() computa el gradiente sobre la imagen\n",
    "    with tf.GradientTape() as gradiente:\n",
    "        #Dejamos que el gradiente vea la imagen y calcule la perdida\n",
    "        gradiente.watch(imagen)\n",
    "        perdida = calculo_perdida(imagen, indice_filtro)\n",
    "    \n",
    "    #Calculamos el gradiente.\n",
    "    grad = gradiente.gradient(perdida, imagen)\n",
    "    \n",
    "    #Y lo normalizamos\n",
    "    grad = tf.math.l2_normalize(grad)\n",
    "    \n",
    "    #Despues actualizamos lo aprendido en la imagen\n",
    "    imagen += tasa_aprendizaje * grad\n",
    "    return perdida, imagen"
   ]
  },
  {
   "cell_type": "raw",
   "metadata": {},
   "source": [
    "Visualizacion del filtro"
   ]
  },
  {
   "cell_type": "code",
   "execution_count": 5,
   "metadata": {},
   "outputs": [],
   "source": [
    "def inicializa_imagen():\n",
    "    # Empezamos con una imagen de 180x180 gris con ruido; con los valores de -1 a 1 y la semilla 3\n",
    "    imagen = tf.random.uniform((1, 180, 180, 3))\n",
    "\n",
    "    return imagen \n",
    "\n",
    "def visualizacion_filtro(indice_filtro):\n",
    "    \n",
    "    # Ejecutamos 30 iteraciones del descenso de gradiente\n",
    "    iteraciones = 30\n",
    "    tasa_aprendizaje = 10.0\n",
    "    imagen = inicializa_imagen()\n",
    "    for iteracion in range(iteraciones):\n",
    "        perdida, imagen = paso_gradiente(imagen, indice_filtro, tasa_aprendizaje)\n",
    "\n",
    "    #Decodificamos los resultados\n",
    "    imagen = decodificacion(imagen[0].numpy())\n",
    "    return perdida, imagen\n",
    "\n",
    "def decodificacion(imagen):\n",
    "    \n",
    "    # Normalizamos la imagen\n",
    "    imagen -= imagen.mean()\n",
    "    imagen /= imagen.std() + 1e-5\n",
    "    imagen *= 0.15\n",
    "\n",
    "    # La centramos\n",
    "    imagen = imagen[25:-25, 25:-25, :]\n",
    "    imagen += 0.5\n",
    "    imagen = np.clip(imagen, 0, 1)\n",
    "\n",
    "    # Y la convertimos a RGB\n",
    "    imagen *= 255\n",
    "    imagen = np.clip(imagen, 0, 255).astype(\"uint8\")\n",
    "    return imagen"
   ]
  },
  {
   "cell_type": "markdown",
   "metadata": {},
   "source": [
    "## Visualizacion resultados"
   ]
  },
  {
   "cell_type": "raw",
   "metadata": {},
   "source": [
    "Primero visualizamos la imagen de la que vamos a extraer las características"
   ]
  },
  {
   "cell_type": "code",
   "execution_count": 42,
   "metadata": {},
   "outputs": [],
   "source": [
    "#Paquete para graficar datos\n",
    "import matplotlib.pyplot as plt\n",
    "\n",
    "#Métodos para pintar\n",
    "#Pintamos los píxeles\n",
    "plt.matshow(tf.random.uniform((1, 180, 180, 3))[0].numpy(), cmap = plt.cm.gray)\n",
    "#Eliminamos los ejes\n",
    "plt.xticks(())\n",
    "plt.yticks(())\n",
    "#Mostramos la gráfica\n",
    "plt.show"
   ]
  },
  {
   "cell_type": "raw",
   "metadata": {},
   "source": [
    "Después vemos las características extraidas por cada filtro"
   ]
  },
  {
   "cell_type": "code",
   "execution_count": 35,
   "metadata": {},
   "outputs": [],
   "source": [
    "from IPython.display import Image, display\n",
    "\n",
    "perdida, imagen = visualizacion_filtro(0)\n",
    "keras.preprocessing.image.save_img(\"2conv.png\", imagen)\n",
    "display(Image(\"2conv.png\"))"
   ]
  },
  {
   "cell_type": "raw",
   "metadata": {},
   "source": [
    "Sobre las guías de usuario de estos 3 paquetes puede encontrar todas sus funcionalidades. En los siguientes código usaremos más funciones de ellos:\n",
    "- Scikit-learn: https://scikit-learn.org/stable/user_guide.html\n",
    "- Pandas: https://pandas.pydata.org/docs/user_guide/index.html\n",
    "- Numpy: https://numpy.org/doc/stable/\n",
    "- Imbalanced-learn: https://imbalanced-learn.readthedocs.io/en/stable/user_guide.html\n",
    "- Pickle: https://docs.python.org/3/library/pickle.html\n",
    "- Seaborn: https://seaborn.pydata.org/installing.html\n",
    "- Matplotlib: https://matplotlib.org/users/index.html\n",
    "- Keras: https://keras.io/guides/"
   ]
  }
 ],
 "metadata": {
  "kernelspec": {
   "display_name": "Python 3",
   "language": "python",
   "name": "python3"
  },
  "language_info": {
   "codemirror_mode": {
    "name": "ipython",
    "version": 3
   },
   "file_extension": ".py",
   "mimetype": "text/x-python",
   "name": "python",
   "nbconvert_exporter": "python",
   "pygments_lexer": "ipython3",
   "version": "3.7.6"
  }
 },
 "nbformat": 4,
 "nbformat_minor": 4
}
