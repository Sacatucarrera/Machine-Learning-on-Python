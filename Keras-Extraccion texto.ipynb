{
 "cells": [
  {
   "cell_type": "raw",
   "metadata": {},
   "source": [
    "*Antes de comenzar estas lineas de código debe instalar las ultimas versiones de los paquetes*\n",
    "- Scikit-learn: Buscando en anaconda scikit-learn o poniendo en el terminal conda install scikit-learn o pip install scikit-learn ---> Más info en https://scikit-learn.org/stable/install.html\n",
    "- Pandas: Buscando en anaconda pandas o poniendo en el terminal conda install pandas o pip install pandas ---> Más info en https://pandas.pydata.org/docs/getting_started/index.html\n",
    "- Numpy: Buscando en anaconda numpy o poniendo en el terminal conda install numpy o pip install numpy ---> Más info en https://numpy.org/install/\n",
    "- Imbalanced-learn: Poniendo en el terminal conda install -c conda-forge imbalanced-learn o pip install -U imbalanced-learn ---> Más info en https://imbalanced-learn.readthedocs.io/en/stable/install.html\n",
    "- Pickle: Poniendo en el terminal pip install pickle ---> Más info si no te funciona en https://stackoverflow.com/questions/48477949/not-able-to-pip-install-pickle-in-python-3-6/48477988\n",
    "- seaborn: Buscando en anaconda seaborn o poniendo en el terminal pip install seaborn o conda install seaborn ---> Más info en https://seaborn.pydata.org/installing.html\n",
    "- matplotlib: Buscando en anaconda matplotlib o poniendo en el terminal pip install -U matplotlib ---> Más info en https://matplotlib.org/users/installing.html\n",
    "- Keras: Buscando e instalando en anaconda los módulos de tensorflow y keras. También se pueden instalar usando los comandos pip install tensorflow y pip install keras ---> Más infor en https://keras.io/about/\n",
    "\n",
    "Base de datos obtenida de: https://ai.stanford.edu/~amaas/data/sentiment/aclImdb_v1.tar.gz"
   ]
  },
  {
   "cell_type": "markdown",
   "metadata": {},
   "source": [
    "# Lectura y balanceo de datos"
   ]
  },
  {
   "cell_type": "raw",
   "metadata": {},
   "source": [
    "Lo primero de todo es descargarse la base de datos, guardamos la carpeta en el mismo directorio que nuestro código, y borramos todos los archivos menos las subcarpetas de pos y neg de las carpetas de train y test. Ahora leemos los datos.\n",
    "\n",
    "La base de datos es de análisis de sentimientos, siendo un 1 si este es positivo y un 0 si este es negativo"
   ]
  },
  {
   "cell_type": "markdown",
   "metadata": {},
   "source": [
    "## Lectura"
   ]
  },
  {
   "cell_type": "code",
   "execution_count": 1,
   "metadata": {},
   "outputs": [],
   "source": [
    "#Paquetes\n",
    "import tensorflow as tf\n",
    "import numpy as np\n",
    "\n",
    "#Extracción de datos\n",
    "lote = 20000 #Numero de muestras con el que se trabaja hasta que se actualizan los parametros\n",
    "data_training = tf.keras.preprocessing.text_dataset_from_directory( #Se necesita TensorFlow version 2.3.0 o superior\n",
    "    \"aclImdb/train\", #Ruta de los datos\n",
    "    batch_size=lote, #Tamaño del lote\n",
    "    validation_split=0.2, #Proporcion de muestras de validacion\n",
    "    subset=\"training\", #Tipo de subset\n",
    "    seed=1337, #Semilla desde la que empiezo a coger muestras\n",
    ")\n",
    "data_validation = tf.keras.preprocessing.text_dataset_from_directory(\n",
    "    \"aclImdb/train\",\n",
    "    batch_size=lote-15000,\n",
    "    validation_split=0.2,\n",
    "    subset=\"validation\",\n",
    "    seed=1337,\n",
    ")\n",
    "data_test = tf.keras.preprocessing.text_dataset_from_directory(\n",
    "    \"aclImdb/test\", batch_size=lote + 5000\n",
    ")\n",
    "\n",
    "#Número de lotes\n",
    "print(\n",
    "    \"Número de lotes de entrenamiento: %d\"\n",
    "    % tf.data.experimental.cardinality(data_training)\n",
    ")\n",
    "print(\n",
    "    \"Número de lotes de validación: %d\" % tf.data.experimental.cardinality(data_validation)\n",
    ")\n",
    "print(\n",
    "    \"Número de lotes de prueba: %d\"\n",
    "    % tf.data.experimental.cardinality(data_test))"
   ]
  },
  {
   "cell_type": "raw",
   "metadata": {},
   "source": [
    "Visualizamos los datos contenidos"
   ]
  },
  {
   "cell_type": "code",
   "execution_count": 2,
   "metadata": {},
   "outputs": [],
   "source": [
    "#Bucle para extraer los valores\n",
    "for texto, etiqueta in data_training.take(1):\n",
    "    for i in range(5):\n",
    "        print('Texto: ',texto.numpy()[i])\n",
    "        print('Etiqueta: ',etiqueta.numpy()[i])"
   ]
  },
  {
   "cell_type": "markdown",
   "metadata": {},
   "source": [
    "# Preparación del texto"
   ]
  },
  {
   "cell_type": "code",
   "execution_count": 42,
   "metadata": {},
   "outputs": [],
   "source": [
    "#Paquetes\n",
    "from tensorflow.keras.layers.experimental.preprocessing import TextVectorization\n",
    "import string\n",
    "import re\n",
    "\n",
    "# Creamos una función para eliminar las / de nuestro texto, y poner todas las letras en minúsculas\n",
    "def preparacion(texto):\n",
    "    texto_minusculas = tf.strings.lower(texto)\n",
    "    sin_barras = tf.strings.regex_replace(texto_minusculas, \"<br />\", \" \")\n",
    "    return tf.strings.regex_replace(\n",
    "        sin_barras, \"[%s]\" % re.escape(string.punctuation), \"\")\n",
    "\n",
    "\n",
    "# Definimos la vectorización.\n",
    "caracteristicas = 20000 #Número máximo de tokens de la capa (con cuantas palabras trabaja)\n",
    "long_seq = 500 #Longitud máxima de cada secuencia\n",
    "\n",
    "# Definimos la capa de vectorizacion\n",
    "capa_vectorizacion = TextVectorization(\n",
    "    #Definimos los valores\n",
    "    standardize=preparacion,\n",
    "    max_tokens=caracteristicas,\n",
    "    output_mode=\"int\", #El vector que sale es de enteros\n",
    "    output_sequence_length=long_seq,\n",
    ")\n"
   ]
  },
  {
   "cell_type": "raw",
   "metadata": {},
   "source": [
    "Elaboramos los vectores de datos que se introducirán en la red"
   ]
  },
  {
   "cell_type": "code",
   "execution_count": 43,
   "metadata": {},
   "outputs": [],
   "source": [
    "def vectorizacion(texto, etiqueta):\n",
    "    texto = tf.expand_dims(texto, -1)\n",
    "    return capa_vectorizacion(texto), etiqueta\n",
    "\n",
    "\n",
    "# Vectorize the data.\n",
    "training = data_training.map(vectorizacion)\n",
    "validation = data_validation.map(vectorizacion)\n",
    "test = data_test.map(vectorizacion)"
   ]
  },
  {
   "cell_type": "code",
   "execution_count": 3,
   "metadata": {},
   "outputs": [],
   "source": [
    "#Volvemos a extraer los valores con el mismo bucle\n",
    "for texto, etiqueta in training.take(1):\n",
    "    for i in range(5):\n",
    "        print('Texto: ',texto.numpy()[i])\n",
    "        print('Etiqueta: ',etiqueta.numpy()[i])"
   ]
  },
  {
   "cell_type": "markdown",
   "metadata": {},
   "source": [
    "## Balanceo "
   ]
  },
  {
   "cell_type": "code",
   "execution_count": 4,
   "metadata": {},
   "outputs": [],
   "source": [
    "#Primero pasamos los arrays a numpy como estamos acostumbrados\n",
    "for texto, etiqueta in training.take(1):\n",
    "    dataTraining = texto.numpy()\n",
    "    targetTraining = etiqueta.numpy()\n",
    "\n",
    "for texto, etiqueta in validation.take(1):\n",
    "    dataValidation = texto.numpy()\n",
    "    targetValidation = etiqueta.numpy()\n",
    "    \n",
    "for texto, etiqueta in test.take(1):\n",
    "    dataTest = texto.numpy()\n",
    "    targetTest = etiqueta.numpy()\n",
    "    \n",
    "Después contamos los valores positivos y negativos que tengo en el entrenamiento\n",
    "\n",
    "#Inicializacion de la cuenta\n",
    "Positivo = 0\n",
    "Negativo = 0\n",
    "\n",
    "#Cuenta de datos\n",
    "for x in range(targetTraining.shape[0]):\n",
    "    if targetTraining[x] == 0:\n",
    "        Negativo = Negativo + 1\n",
    "    else:\n",
    "        Positivo = Positivo + 1\n",
    "\n",
    "#Representación\n",
    "print(\"Reseñas positivas: \" + str(Positivo))\n",
    "print(\"Reseñas negativas: \" + str(Negativo))"
   ]
  },
  {
   "cell_type": "code",
   "execution_count": 5,
   "metadata": {},
   "outputs": [],
   "source": [
    "dataTraining.shape"
   ]
  },
  {
   "cell_type": "code",
   "execution_count": 6,
   "metadata": {},
   "outputs": [],
   "source": [
    "#Importamos los paquetes de subremuestreo\n",
    "from imblearn.under_sampling import NearMiss\n",
    "\n",
    "#SMOTE\n",
    "NM = NearMiss()\n",
    "\n",
    "#Generación de nuevas muestras sintéticas\n",
    "dataTrainingNM, tragetTrainingNM = NM.fit_resample(dataTraining, targetTraining)\n",
    "\n",
    "#Inicializacion de la cuenta\n",
    "Positivo = 0\n",
    "Negativo = 0\n",
    "\n",
    "#Cuenta de datos\n",
    "for x in range(tragetTrainingNM.shape[0]):\n",
    "    if tragetTrainingNM[x] == 0:\n",
    "        Negativo = Negativo + 1\n",
    "    else:\n",
    "        Positivo = Positivo + 1\n",
    "\n",
    "#Representación\n",
    "print(\"Reseñas positivas: \" + str(Positivo))\n",
    "print(\"Reseñas negativas: \" + str(Negativo))"
   ]
  },
  {
   "cell_type": "raw",
   "metadata": {},
   "source": [
    "Aunque existen otras formas de solucionar problemas de bases de datos no balanceadas como normalizar los datos, filtrar algunos de ellos..."
   ]
  },
  {
   "cell_type": "raw",
   "metadata": {},
   "source": [
    "Sobre las guías de usuario de estos 3 paquetes puede encontrar todas sus funcionalidades. En los siguientes código usaremos más funciones de ellos:\n",
    "- Scikit-learn: https://scikit-learn.org/stable/user_guide.html\n",
    "- Pandas: https://pandas.pydata.org/docs/user_guide/index.html\n",
    "- Numpy: https://numpy.org/doc/stable/\n",
    "- Imbalanced-learn: https://imbalanced-learn.readthedocs.io/en/stable/user_guide.html\n",
    "- Pickle: https://docs.python.org/3/library/pickle.html\n",
    "- Seaborn: https://seaborn.pydata.org/installing.html\n",
    "- Matplotlib: https://matplotlib.org/users/index.html\n",
    "- Keras: https://keras.io/guides/"
   ]
  }
 ],
 "metadata": {
  "kernelspec": {
   "display_name": "Python 3",
   "language": "python",
   "name": "python3"
  },
  "language_info": {
   "codemirror_mode": {
    "name": "ipython",
    "version": 3
   },
   "file_extension": ".py",
   "mimetype": "text/x-python",
   "name": "python",
   "nbconvert_exporter": "python",
   "pygments_lexer": "ipython3",
   "version": "3.7.6"
  }
 },
 "nbformat": 4,
 "nbformat_minor": 4
}
