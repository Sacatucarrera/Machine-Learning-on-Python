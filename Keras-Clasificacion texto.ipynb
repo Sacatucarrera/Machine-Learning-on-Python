{
 "cells": [
  {
   "cell_type": "raw",
   "metadata": {},
   "source": [
    "*Antes de comenzar estas lineas de código debe instalar las ultimas versiones de los paquetes*\n",
    "- Scikit-learn: Buscando en anaconda scikit-learn o poniendo en el terminal conda install scikit-learn o pip install scikit-learn ---> Más info en https://scikit-learn.org/stable/install.html\n",
    "- Pandas: Buscando en anaconda pandas o poniendo en el terminal conda install pandas o pip install pandas ---> Más info en https://pandas.pydata.org/docs/getting_started/index.html\n",
    "- Numpy: Buscando en anaconda numpy o poniendo en el terminal conda install numpy o pip install numpy ---> Más info en https://numpy.org/install/\n",
    "- Imbalanced-learn: Poniendo en el terminal conda install -c conda-forge imbalanced-learn o pip install -U imbalanced-learn ---> Más info en https://imbalanced-learn.readthedocs.io/en/stable/install.html\n",
    "- Pickle: Poniendo en el terminal pip install pickle ---> Más info si no te funciona en https://stackoverflow.com/questions/48477949/not-able-to-pip-install-pickle-in-python-3-6/48477988\n",
    "- seaborn: Buscando en anaconda seaborn o poniendo en el terminal pip install seaborn o conda install seaborn ---> Más info en https://seaborn.pydata.org/installing.html\n",
    "- matplotlib: Buscando en anaconda matplotlib o poniendo en el terminal pip install -U matplotlib ---> Más info en https://matplotlib.org/users/installing.html\n",
    "- Keras: Buscando e instalando en anaconda los módulos de tensorflow y keras. También se pueden instalar usando los comandos pip install tensorflow y pip install keras ---> Más infor en https://keras.io/about/\n",
    "\n",
    "Base de datos obtenida de: https://ai.stanford.edu/~amaas/data/sentiment/aclImdb_v1.tar.gz"
   ]
  },
  {
   "cell_type": "markdown",
   "metadata": {},
   "source": [
    "# Lectura y balanceo de datos"
   ]
  },
  {
   "cell_type": "raw",
   "metadata": {},
   "source": [
    "Lo primero de todo es descargarse la base de datos, guardamos la carpeta en el mismo directorio que nuestro código, y borramos todos los archivos menos las subcarpetas de pos y neg de las carpetas de train y test. Ahora leemos los datos.\n",
    "\n",
    "La base de datos es de análisis de sentimientos, siendo un 1 si este es positivo y un 0 si este es negativo"
   ]
  },
  {
   "cell_type": "markdown",
   "metadata": {},
   "source": [
    "## Lectura"
   ]
  },
  {
   "cell_type": "code",
   "execution_count": 48,
   "metadata": {},
   "outputs": [],
   "source": [
    "#Paquetes\n",
    "import tensorflow as tf\n",
    "import numpy as np\n",
    "\n",
    "#Extracción de datos\n",
    "lote = 32 #Numero de muestras con el que se trabaja hasta que se actualizan los parametros\n",
    "data_training = tf.keras.preprocessing.text_dataset_from_directory( #Se necesita TensorFlow version 2.3.0 o superior\n",
    "    \"aclImdb/train\", #Ruta de los datos\n",
    "    batch_size=lote, #Tamaño del lote\n",
    "    validation_split=0.2, #Proporcion de muestras de validacion\n",
    "    subset=\"training\", #Tipo de subset\n",
    "    seed=1337, #Semilla desde la que empiezo a coger muestras\n",
    ")\n",
    "data_validation = tf.keras.preprocessing.text_dataset_from_directory(\n",
    "    \"aclImdb/train\",\n",
    "    batch_size=lote,\n",
    "    validation_split=0.2,\n",
    "    subset=\"validation\",\n",
    "    seed=1337,\n",
    ")\n",
    "data_test = tf.keras.preprocessing.text_dataset_from_directory(\n",
    "    \"aclImdb/test\", batch_size=lote \n",
    ")\n",
    "\n",
    "#Número de lotes\n",
    "print(\n",
    "    \"Número de lotes de entrenamiento: %d\"\n",
    "    % tf.data.experimental.cardinality(data_training)\n",
    ")\n",
    "\n",
    "print(\n",
    "    \"Número de lotes de validación: %d\" % tf.data.experimental.cardinality(data_validation)\n",
    ")\n",
    "\n",
    "print(\n",
    "    \"Número de lotes de prueba: %d\"\n",
    "    % tf.data.experimental.cardinality(data_test))"
   ]
  },
  {
   "cell_type": "raw",
   "metadata": {},
   "source": [
    "Visualizamos los datos contenidos"
   ]
  },
  {
   "cell_type": "code",
   "execution_count": 49,
   "metadata": {},
   "outputs": [],
   "source": [
    "#Bucle para extraer los valores\n",
    "for texto, etiqueta in data_training.take(1):\n",
    "    for i in range(5):\n",
    "        print('Texto: ',texto.numpy()[i])\n",
    "        print('Etiqueta: ',etiqueta.numpy()[i])"
   ]
  },
  {
   "cell_type": "markdown",
   "metadata": {},
   "source": [
    "# Preparación del texto"
   ]
  },
  {
   "cell_type": "code",
   "execution_count": 31,
   "metadata": {},
   "outputs": [],
   "source": [
    "#Paquetes\n",
    "from tensorflow.keras.layers.experimental.preprocessing import TextVectorization\n",
    "import string\n",
    "import re\n",
    "\n",
    "# Creamos una función para eliminar las / de nuestro texto, y poner todas las letras en minúsculas\n",
    "def preparacion(texto):\n",
    "    texto_minusculas = tf.strings.lower(texto)\n",
    "    sin_barras = tf.strings.regex_replace(texto_minusculas, \"<br />\", \" \")\n",
    "    return tf.strings.regex_replace(\n",
    "        sin_barras, \"[%s]\" % re.escape(string.punctuation), \"\")\n",
    "\n",
    "\n",
    "# Definimos la vectorización.\n",
    "caracteristicas = 20000 #Número máximo de tokens de la capa (con cuantas palabras trabaja)\n",
    "long_seq = 500 #Longitud máxima de cada secuencia\n",
    "\n",
    "# Definimos la capa de vectorizacion\n",
    "capa_vectorizacion = TextVectorization(\n",
    "    #Definimos los valores\n",
    "    standardize=preparacion,\n",
    "    max_tokens=caracteristicas,\n",
    "    output_mode=\"int\", #El vector que sale es de enteros\n",
    "    output_sequence_length=long_seq,\n",
    ")\n",
    "\n",
    "texto = data_training.map(lambda x, y:x ) #Me quedo con solo el texto, sin etiquetas\n",
    "capa_vectorizacion.adapt(texto) #Adapto la capa de vectorizacion al texto\n"
   ]
  },
  {
   "cell_type": "markdown",
   "metadata": {},
   "source": [
    "## Modelo predictivo"
   ]
  },
  {
   "cell_type": "code",
   "execution_count": 32,
   "metadata": {},
   "outputs": [],
   "source": [
    "#Métricas de evaluación\n",
    "from keras import backend as K\n",
    "\n",
    "def recall_m(y_true, y_pred):\n",
    "    true_positives = K.sum(K.round(K.clip(y_true * y_pred, 0, 1)))\n",
    "    possible_positives = K.sum(K.round(K.clip(y_true, 0, 1)))\n",
    "    recall = true_positives / (possible_positives + K.epsilon())\n",
    "    return recall\n",
    "\n",
    "def precision_m(y_true, y_pred):\n",
    "    true_positives = K.sum(K.round(K.clip(y_true * y_pred, 0, 1)))\n",
    "    predicted_positives = K.sum(K.round(K.clip(y_pred, 0, 1)))\n",
    "    precision = true_positives / (predicted_positives + K.epsilon())\n",
    "    return precision\n",
    "\n",
    "def f1_m(y_true, y_pred):\n",
    "    precision = precision_m(y_true, y_pred)\n",
    "    recall = recall_m(y_true, y_pred)\n",
    "    return 2*((precision*recall)/(precision+recall+K.epsilon()))"
   ]
  },
  {
   "cell_type": "code",
   "execution_count": 50,
   "metadata": {},
   "outputs": [],
   "source": [
    "#Importamos el paquete de las capas neuronales\n",
    "from tensorflow.keras import layers\n",
    "\n",
    "#Primero vectorizo el texto de entrada\n",
    "inputs = tf.keras.Input(shape=(1,), dtype=tf.string, name='text')#La forma de entrada es un array de texto\n",
    "x = capa_vectorizacion(inputs)\n",
    "\n",
    "# Después generamos la capa de incrustación - Sirve para vectorizar las características en el mapa\n",
    "caracteristicas = 20000 #Número máximo de tokens de la capa (con cuantas palabras trabaja)\n",
    "incrustacion_dim = 128 #Dimensiones de la capa de incrustacion \n",
    "x = layers.Embedding(caracteristicas + 1, incrustacion_dim)(x) #Se genera la capa de incrustacion \n",
    "\n",
    "#Despues añadimos una capa de dropout para evitar el sobreentrenamiento\n",
    "x = layers.Dropout(0.5)(x)\n",
    "\n",
    "#Generamos ahora las capas convolucionales\n",
    "x = layers.Conv1D(128, 7, padding=\"valid\", activation=\"relu\", strides=3)(x) #128 filtros y 7 unidades el tamaño \n",
    "#nucleo, sin padding (sin añadir ceros al final del vector) con la funcion de activacion relu y con una longitud\n",
    "#de 3 unidades en la convolucion\n",
    "x = layers.Conv1D(128, 7, padding=\"valid\", activation=\"relu\", strides=3)(x)\n",
    "\n",
    "#Genero ahora una capa de agrupacion global por maximos en una dimension\n",
    "x = layers.GlobalMaxPooling1D()(x)\n",
    "\n",
    "# Finalmente añadimos una capa densa con un nuevo dropout para terminar el proceso\n",
    "x = layers.Dense(128, activation=\"relu\")(x)\n",
    "x = layers.Dropout(0.5)(x)\n",
    "\n",
    "# Genero la capa densa final, con una unica neurona que me el resultado de si el texto es 1 o 0\n",
    "# Usamos en este caso una funcion de activacion sigmoidea\n",
    "predictions = layers.Dense(1, activation=\"sigmoid\", name=\"predictions\")(x)\n",
    "\n",
    "#Generamos todo el modelo con las capas que hemos definido\n",
    "model = tf.keras.Model(inputs, predictions)\n",
    "\n",
    "#Resumen del modelo elaborado\n",
    "model.summary()\n",
    "\n",
    "# Compilamos la red, siendo la funcion de coste la entropia binaria cruzada, el optimizador adam y las metricas explicadas\n",
    "model.compile(loss=\"binary_crossentropy\", optimizer=\"adam\", metrics=['accuracy',f1_m,precision_m, recall_m])"
   ]
  },
  {
   "cell_type": "code",
   "execution_count": 51,
   "metadata": {},
   "outputs": [],
   "source": [
    "#Especifico cada cuantos grupos actualizo los parametros de la red\n",
    "subgrupos = 3\n",
    "\n",
    "# Ajustamos el modelo a los conjuntos de entrenamiento y validacion\n",
    "model.fit(data_training, validation_data=data_validation, epochs=subgrupos)"
   ]
  },
  {
   "cell_type": "code",
   "execution_count": 52,
   "metadata": {},
   "outputs": [],
   "source": [
    "#Evaluamos el modelo\n",
    "model.evaluate(data_test)"
   ]
  },
  {
   "cell_type": "code",
   "execution_count": 53,
   "metadata": {},
   "outputs": [],
   "source": [
    "#Finalmente se podría realizar una prediccion\n",
    "model.predict(['I think this text is so bad'])"
   ]
  },
  {
   "cell_type": "raw",
   "metadata": {},
   "source": [
    "Sobre las guías de usuario de estos 3 paquetes puede encontrar todas sus funcionalidades. En los siguientes código usaremos más funciones de ellos:\n",
    "- Scikit-learn: https://scikit-learn.org/stable/user_guide.html\n",
    "- Pandas: https://pandas.pydata.org/docs/user_guide/index.html\n",
    "- Numpy: https://numpy.org/doc/stable/\n",
    "- Imbalanced-learn: https://imbalanced-learn.readthedocs.io/en/stable/user_guide.html\n",
    "- Pickle: https://docs.python.org/3/library/pickle.html\n",
    "- Seaborn: https://seaborn.pydata.org/installing.html\n",
    "- Matplotlib: https://matplotlib.org/users/index.html\n",
    "- Keras: https://keras.io/guides/"
   ]
  }
 ],
 "metadata": {
  "kernelspec": {
   "display_name": "Python 3",
   "language": "python",
   "name": "python3"
  },
  "language_info": {
   "codemirror_mode": {
    "name": "ipython",
    "version": 3
   },
   "file_extension": ".py",
   "mimetype": "text/x-python",
   "name": "python",
   "nbconvert_exporter": "python",
   "pygments_lexer": "ipython3",
   "version": "3.7.6"
  }
 },
 "nbformat": 4,
 "nbformat_minor": 4
}
