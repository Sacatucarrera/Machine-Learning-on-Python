{
 "cells": [
  {
   "cell_type": "raw",
   "metadata": {},
   "source": [
    "*Antes de comenzar estas lineas de código debe instalar las ultimas versiones de los paquetes*\n",
    "- Scikit-learn: Buscando en anaconda scikit-learn o poniendo en el terminal conda install scikit-learn o pip install scikit-learn ---> Más info en https://scikit-learn.org/stable/install.html\n",
    "- Pandas: Buscando en anaconda pandas o poniendo en el terminal conda install pandas o pip install pandas ---> Más info en https://pandas.pydata.org/docs/getting_started/index.html\n",
    "- Numpy: Buscando en anaconda numpy o poniendo en el terminal conda install numpy o pip install numpy ---> Más info en https://numpy.org/install/\n",
    "- Imbalanced-learn: Poniendo en el terminal conda install -c conda-forge imbalanced-learn o pip install -U imbalanced-learn ---> Más info en https://imbalanced-learn.readthedocs.io/en/stable/install.html\n",
    "- Pickle: Poniendo en el terminal pip install pickle ---> Más info si no te funciona en https://stackoverflow.com/questions/48477949/not-able-to-pip-install-pickle-in-python-3-6/48477988\n",
    "- seaborn: Buscando en anaconda seaborn o poniendo en el terminal pip install seaborn o conda install seaborn ---> Más info en https://seaborn.pydata.org/installing.html\n",
    "- matplotlib: Buscando en anaconda matplotlib o poniendo en el terminal pip install -U matplotlib ---> Más info en https://matplotlib.org/users/installing.html"
   ]
  },
  {
   "cell_type": "markdown",
   "metadata": {},
   "source": [
    "# Lectura y balanceo de datos"
   ]
  },
  {
   "cell_type": "code",
   "execution_count": 14,
   "metadata": {},
   "outputs": [
    {
     "data": {
      "text/html": [
       "<div>\n",
       "<style scoped>\n",
       "    .dataframe tbody tr th:only-of-type {\n",
       "        vertical-align: middle;\n",
       "    }\n",
       "\n",
       "    .dataframe tbody tr th {\n",
       "        vertical-align: top;\n",
       "    }\n",
       "\n",
       "    .dataframe thead th {\n",
       "        text-align: right;\n",
       "    }\n",
       "</style>\n",
       "<table border=\"1\" class=\"dataframe\">\n",
       "  <thead>\n",
       "    <tr style=\"text-align: right;\">\n",
       "      <th></th>\n",
       "      <th>mean radius</th>\n",
       "      <th>mean texture</th>\n",
       "    </tr>\n",
       "  </thead>\n",
       "  <tbody>\n",
       "    <tr>\n",
       "      <th>0</th>\n",
       "      <td>17.99</td>\n",
       "      <td>10.38</td>\n",
       "    </tr>\n",
       "    <tr>\n",
       "      <th>1</th>\n",
       "      <td>20.57</td>\n",
       "      <td>17.77</td>\n",
       "    </tr>\n",
       "    <tr>\n",
       "      <th>2</th>\n",
       "      <td>19.69</td>\n",
       "      <td>21.25</td>\n",
       "    </tr>\n",
       "    <tr>\n",
       "      <th>3</th>\n",
       "      <td>11.42</td>\n",
       "      <td>20.38</td>\n",
       "    </tr>\n",
       "    <tr>\n",
       "      <th>4</th>\n",
       "      <td>20.29</td>\n",
       "      <td>14.34</td>\n",
       "    </tr>\n",
       "    <tr>\n",
       "      <th>...</th>\n",
       "      <td>...</td>\n",
       "      <td>...</td>\n",
       "    </tr>\n",
       "    <tr>\n",
       "      <th>564</th>\n",
       "      <td>21.56</td>\n",
       "      <td>22.39</td>\n",
       "    </tr>\n",
       "    <tr>\n",
       "      <th>565</th>\n",
       "      <td>20.13</td>\n",
       "      <td>28.25</td>\n",
       "    </tr>\n",
       "    <tr>\n",
       "      <th>566</th>\n",
       "      <td>16.60</td>\n",
       "      <td>28.08</td>\n",
       "    </tr>\n",
       "    <tr>\n",
       "      <th>567</th>\n",
       "      <td>20.60</td>\n",
       "      <td>29.33</td>\n",
       "    </tr>\n",
       "    <tr>\n",
       "      <th>568</th>\n",
       "      <td>7.76</td>\n",
       "      <td>24.54</td>\n",
       "    </tr>\n",
       "  </tbody>\n",
       "</table>\n",
       "<p>569 rows × 2 columns</p>\n",
       "</div>"
      ],
      "text/plain": [
       "     mean radius  mean texture\n",
       "0          17.99         10.38\n",
       "1          20.57         17.77\n",
       "2          19.69         21.25\n",
       "3          11.42         20.38\n",
       "4          20.29         14.34\n",
       "..           ...           ...\n",
       "564        21.56         22.39\n",
       "565        20.13         28.25\n",
       "566        16.60         28.08\n",
       "567        20.60         29.33\n",
       "568         7.76         24.54\n",
       "\n",
       "[569 rows x 2 columns]"
      ]
     },
     "execution_count": 14,
     "metadata": {},
     "output_type": "execute_result"
    }
   ],
   "source": [
    "#Paquetes para lectura y recuento\n",
    "from sklearn.datasets import load_breast_cancer\n",
    "import pandas as pd\n",
    "\n",
    "#Primero importamos los datos que vamos a leer\n",
    "cancer_data = load_breast_cancer()\n",
    "\n",
    "#Pasamos los datos a un DataFrame (datos en pandas)\n",
    "data = pd.DataFrame(cancer_data['data'], columns = cancer_data['feature_names'])\n",
    "target = pd.DataFrame(cancer_data['target'],columns = ['Tumor Type'])\n",
    "\n",
    "#Si quisieramos coger solo unas características\n",
    "data = data[['mean radius', 'mean texture']] \n",
    "data"
   ]
  },
  {
   "cell_type": "code",
   "execution_count": 15,
   "metadata": {},
   "outputs": [
    {
     "data": {
      "text/html": [
       "<div>\n",
       "<style scoped>\n",
       "    .dataframe tbody tr th:only-of-type {\n",
       "        vertical-align: middle;\n",
       "    }\n",
       "\n",
       "    .dataframe tbody tr th {\n",
       "        vertical-align: top;\n",
       "    }\n",
       "\n",
       "    .dataframe thead th {\n",
       "        text-align: right;\n",
       "    }\n",
       "</style>\n",
       "<table border=\"1\" class=\"dataframe\">\n",
       "  <thead>\n",
       "    <tr style=\"text-align: right;\">\n",
       "      <th></th>\n",
       "      <th>mean radius</th>\n",
       "      <th>mean texture</th>\n",
       "    </tr>\n",
       "  </thead>\n",
       "  <tbody>\n",
       "    <tr>\n",
       "      <th>0</th>\n",
       "      <td>17.990000</td>\n",
       "      <td>10.380000</td>\n",
       "    </tr>\n",
       "    <tr>\n",
       "      <th>1</th>\n",
       "      <td>20.570000</td>\n",
       "      <td>17.770000</td>\n",
       "    </tr>\n",
       "    <tr>\n",
       "      <th>2</th>\n",
       "      <td>19.690000</td>\n",
       "      <td>21.250000</td>\n",
       "    </tr>\n",
       "    <tr>\n",
       "      <th>3</th>\n",
       "      <td>11.420000</td>\n",
       "      <td>20.380000</td>\n",
       "    </tr>\n",
       "    <tr>\n",
       "      <th>4</th>\n",
       "      <td>20.290000</td>\n",
       "      <td>14.340000</td>\n",
       "    </tr>\n",
       "    <tr>\n",
       "      <th>...</th>\n",
       "      <td>...</td>\n",
       "      <td>...</td>\n",
       "    </tr>\n",
       "    <tr>\n",
       "      <th>709</th>\n",
       "      <td>20.529397</td>\n",
       "      <td>22.007167</td>\n",
       "    </tr>\n",
       "    <tr>\n",
       "      <th>710</th>\n",
       "      <td>19.546875</td>\n",
       "      <td>18.689059</td>\n",
       "    </tr>\n",
       "    <tr>\n",
       "      <th>711</th>\n",
       "      <td>19.765567</td>\n",
       "      <td>21.657960</td>\n",
       "    </tr>\n",
       "    <tr>\n",
       "      <th>712</th>\n",
       "      <td>16.832383</td>\n",
       "      <td>16.153352</td>\n",
       "    </tr>\n",
       "    <tr>\n",
       "      <th>713</th>\n",
       "      <td>11.127215</td>\n",
       "      <td>19.045245</td>\n",
       "    </tr>\n",
       "  </tbody>\n",
       "</table>\n",
       "<p>714 rows × 2 columns</p>\n",
       "</div>"
      ],
      "text/plain": [
       "     mean radius  mean texture\n",
       "0      17.990000     10.380000\n",
       "1      20.570000     17.770000\n",
       "2      19.690000     21.250000\n",
       "3      11.420000     20.380000\n",
       "4      20.290000     14.340000\n",
       "..           ...           ...\n",
       "709    20.529397     22.007167\n",
       "710    19.546875     18.689059\n",
       "711    19.765567     21.657960\n",
       "712    16.832383     16.153352\n",
       "713    11.127215     19.045245\n",
       "\n",
       "[714 rows x 2 columns]"
      ]
     },
     "execution_count": 15,
     "metadata": {},
     "output_type": "execute_result"
    }
   ],
   "source": [
    "#Importamos los paquetes de sobremuestreo\n",
    "from imblearn.over_sampling import SMOTE\n",
    "\n",
    "#SMOTE\n",
    "smote = SMOTE()\n",
    "\n",
    "#Generación de nuevas muestras sintéticas\n",
    "dataSmote, targetSmote = smote.fit_resample(data,target)\n",
    "\n",
    "#Representación\n",
    "dataSmote"
   ]
  },
  {
   "cell_type": "markdown",
   "metadata": {},
   "source": [
    "# Inicialización de modelos"
   ]
  },
  {
   "cell_type": "markdown",
   "metadata": {},
   "source": [
    "## Obtención de los conjuntos de evaluación y entrenamiento"
   ]
  },
  {
   "cell_type": "code",
   "execution_count": 16,
   "metadata": {},
   "outputs": [],
   "source": [
    "from sklearn.model_selection import train_test_split\n",
    "dataTrain, dataTest, targetTrain, targetTest = train_test_split(data,target, random_state = 0)"
   ]
  },
  {
   "cell_type": "markdown",
   "metadata": {},
   "source": [
    "## Regresión logística"
   ]
  },
  {
   "cell_type": "code",
   "execution_count": 17,
   "metadata": {},
   "outputs": [
    {
     "name": "stderr",
     "output_type": "stream",
     "text": [
      "/opt/anaconda3/lib/python3.7/site-packages/sklearn/utils/validation.py:760: DataConversionWarning: A column-vector y was passed when a 1d array was expected. Please change the shape of y to (n_samples, ), for example using ravel().\n",
      "  y = column_or_1d(y, warn=True)\n"
     ]
    }
   ],
   "source": [
    "#Paquete\n",
    "from sklearn.linear_model import LogisticRegression\n",
    "\n",
    "#Inicialización\n",
    "modelLR = LogisticRegression()\n",
    "\n",
    "#Entrenamiento \n",
    "modelLR.fit(dataTrain, targetTrain)\n",
    "\n",
    "#Predicción \n",
    "targetPredLR = modelLR.predict(dataTest)"
   ]
  },
  {
   "cell_type": "markdown",
   "metadata": {},
   "source": [
    "## Arbol de decisión"
   ]
  },
  {
   "cell_type": "code",
   "execution_count": 18,
   "metadata": {},
   "outputs": [],
   "source": [
    "#Paquete\n",
    "from sklearn.tree import DecisionTreeClassifier\n",
    "\n",
    "#Inicialización.\n",
    "modelDT = DecisionTreeClassifier()\n",
    "\n",
    "#Entrenamiento\n",
    "modelDT.fit(dataTrain, targetTrain)\n",
    "\n",
    "#Predicción \n",
    "targetPredDT = modelDT.predict(dataTest)"
   ]
  },
  {
   "cell_type": "markdown",
   "metadata": {},
   "source": [
    "# Métricas de evaluación"
   ]
  },
  {
   "cell_type": "markdown",
   "metadata": {},
   "source": [
    "## Matriz de confusión "
   ]
  },
  {
   "cell_type": "code",
   "execution_count": 20,
   "metadata": {},
   "outputs": [
    {
     "data": {
      "image/png": "[encoded data removed]",
      "text/plain": [
       "<Figure size 432x288 with 2 Axes>"
      ]
     },
     "metadata": {},
     "output_type": "display_data"
    },
    {
     "data": {
      "image/png": "[encoded data removed]",
      "text/plain": [
       "<Figure size 432x288 with 2 Axes>"
      ]
     },
     "metadata": {},
     "output_type": "display_data"
    }
   ],
   "source": [
    "#Paquetes\n",
    "from sklearn.metrics import confusion_matrix\n",
    "import seaborn as sn\n",
    "import pandas as pd\n",
    "import matplotlib.pyplot as plt\n",
    "\n",
    "#Obtención de la matriz\n",
    "arrayLR = confusion_matrix(targetPredLR, targetTest)\n",
    "arrayDT = confusion_matrix(targetPredDT, targetTest)\n",
    "df_cmLR = pd.DataFrame(arrayLR)\n",
    "df_cmDT = pd.DataFrame(arrayDT)\n",
    "\n",
    "#Representación de la matriz de confusión\n",
    "sn.set(font_scale=1)\n",
    "plt.title('Regresión Logística')\n",
    "plt.show(sn.heatmap(df_cmLR, annot=True, annot_kws={\"size\": 16}, cmap = 'Reds')) \n",
    "plt.title('Árbol de decisión')\n",
    "plt.show(sn.heatmap(df_cmDT, annot=True, annot_kws={\"size\": 16}, cmap = 'Reds')) "
   ]
  },
  {
   "cell_type": "markdown",
   "metadata": {},
   "source": [
    "## Exactitud"
   ]
  },
  {
   "cell_type": "raw",
   "metadata": {},
   "source": [
    "Número de casos acertados/Número de casos totales"
   ]
  },
  {
   "cell_type": "code",
   "execution_count": 21,
   "metadata": {},
   "outputs": [
    {
     "name": "stdout",
     "output_type": "stream",
     "text": [
      "Exactitud regresión logística:  0.9020979020979021\n",
      "Exactitud árbol de decisión:  0.8601398601398601\n"
     ]
    }
   ],
   "source": [
    "#Paquete\n",
    "from sklearn.metrics import accuracy_score\n",
    "\n",
    "print('Exactitud regresión logística: ', accuracy_score(targetPredLR,targetTest))\n",
    "print('Exactitud árbol de decisión: ', accuracy_score(targetPredDT,targetTest))"
   ]
  },
  {
   "cell_type": "markdown",
   "metadata": {},
   "source": [
    "## Memoria, precisión y puntuación F1"
   ]
  },
  {
   "cell_type": "raw",
   "metadata": {},
   "source": [
    "Memoria: Casos positivos correctamente detectados/Casos positivos reales\n",
    "Precisión: Casos positivos correctamente detectados/Casos positivos totales asignados por el modelo\n",
    "Puntuación F1: 2*Memoria*Precisión/Memoria + Precisión"
   ]
  },
  {
   "cell_type": "code",
   "execution_count": 22,
   "metadata": {},
   "outputs": [
    {
     "name": "stdout",
     "output_type": "stream",
     "text": [
      "Memoria regresión logística:  0.9222222222222223\n",
      "Memoria árbol de decisión:  0.8723404255319149\n",
      "Precisión regresión logística:  0.9222222222222223\n",
      "Precisión árbol de decisión:  0.9111111111111111\n",
      "Puntuación F1 regresión logística:  0.9222222222222223\n",
      "Puntuación F1 de decisión:  0.891304347826087\n"
     ]
    }
   ],
   "source": [
    "#Paquetes\n",
    "from sklearn.metrics import recall_score, precision_score, f1_score\n",
    "\n",
    "print('Memoria regresión logística: ', recall_score(targetPredLR,targetTest))\n",
    "print('Memoria árbol de decisión: ', recall_score(targetPredDT,targetTest))\n",
    "print('Precisión regresión logística: ', precision_score(targetPredLR,targetTest))\n",
    "print('Precisión árbol de decisión: ', precision_score(targetPredDT,targetTest))\n",
    "print('Puntuación F1 regresión logística: ', f1_score(targetPredLR,targetTest))\n",
    "print('Puntuación F1 de decisión: ', f1_score(targetPredDT,targetTest))"
   ]
  },
  {
   "cell_type": "markdown",
   "metadata": {},
   "source": [
    "## Curva ROC  "
   ]
  },
  {
   "cell_type": "raw",
   "metadata": {},
   "source": [
    "Es un gráfico que muestra la especificidad vs la memoria. \n",
    "Especificidad: Casos negativos correctamente detectados/Casos negativos reales\n",
    "\n",
    "Para construir la curva ROC usamos las probabilidades predecidas por nuestro modelo"
   ]
  },
  {
   "cell_type": "code",
   "execution_count": 23,
   "metadata": {},
   "outputs": [
    {
     "name": "stdout",
     "output_type": "stream",
     "text": [
      "[[2.50654152e-01 7.49345848e-01]\n",
      " [4.43312467e-01 5.56687533e-01]\n",
      " [1.74558231e-01 8.25441769e-01]\n",
      " [3.21652488e-01 6.78347512e-01]\n",
      " [1.25311957e-01 8.74688043e-01]\n",
      " [2.60339661e-02 9.73966034e-01]\n",
      " [1.21654804e-01 8.78345196e-01]\n",
      " [4.13637234e-02 9.58636277e-01]\n",
      " [3.15012977e-03 9.96849870e-01]\n",
      " [3.69564910e-03 9.96304351e-01]\n",
      " [2.23049105e-01 7.76950895e-01]\n",
      " [7.17620189e-01 2.82379811e-01]\n",
      " [7.29950812e-03 9.92700492e-01]\n",
      " [8.97642026e-01 1.02357974e-01]\n",
      " [2.65748894e-01 7.34251106e-01]\n",
      " [2.82436514e-01 7.17563486e-01]\n",
      " [2.73795813e-03 9.97262042e-01]\n",
      " [9.99583279e-01 4.16720871e-04]\n",
      " [9.96899181e-01 3.10081924e-03]\n",
      " [9.99302578e-01 6.97422243e-04]\n",
      " [4.34193978e-02 9.56580602e-01]\n",
      " [8.03028860e-01 1.96971140e-01]\n",
      " [7.77869363e-02 9.22213064e-01]\n",
      " [4.57110433e-02 9.54288957e-01]\n",
      " [9.97005147e-01 2.99485288e-03]\n",
      " [8.59381333e-03 9.91406187e-01]\n",
      " [4.78495509e-03 9.95215045e-01]\n",
      " [4.27959483e-01 5.72040517e-01]\n",
      " [1.30575503e-01 8.69424497e-01]\n",
      " [9.89840912e-01 1.01590876e-02]\n",
      " [3.32650485e-02 9.66734952e-01]\n",
      " [9.96285604e-01 3.71439586e-03]\n",
      " [2.12381239e-01 7.87618761e-01]\n",
      " [8.74917239e-01 1.25082761e-01]\n",
      " [1.17745785e-03 9.98822542e-01]\n",
      " [2.52772197e-01 7.47227803e-01]\n",
      " [1.17885896e-01 8.82114104e-01]\n",
      " [9.85911796e-01 1.40882037e-02]\n",
      " [3.98700283e-01 6.01299717e-01]\n",
      " [8.56567284e-01 1.43432716e-01]\n",
      " [9.39964348e-01 6.00356519e-02]\n",
      " [1.07998653e-03 9.98920013e-01]\n",
      " [8.98790089e-01 1.01209911e-01]\n",
      " [5.66411688e-03 9.94335883e-01]\n",
      " [2.06592468e-01 7.93407532e-01]\n",
      " [9.99517746e-01 4.82253884e-04]\n",
      " [6.92949084e-04 9.99307051e-01]\n",
      " [4.28093699e-01 5.71906301e-01]\n",
      " [3.17729187e-02 9.68227081e-01]\n",
      " [8.37634678e-01 1.62365322e-01]\n",
      " [9.96803610e-01 3.19639021e-03]\n",
      " [7.30169280e-01 2.69830720e-01]\n",
      " [9.87393669e-01 1.26063312e-02]\n",
      " [3.18855100e-02 9.68114490e-01]\n",
      " [1.00292970e-01 8.99707030e-01]\n",
      " [1.68196514e-02 9.83180349e-01]\n",
      " [1.48993015e-01 8.51006985e-01]\n",
      " [4.68400229e-01 5.31599771e-01]\n",
      " [8.80333140e-02 9.11966686e-01]\n",
      " [9.99456035e-01 5.43965074e-04]\n",
      " [4.20380591e-01 5.79619409e-01]\n",
      " [8.06830616e-01 1.93169384e-01]\n",
      " [7.81371179e-03 9.92186288e-01]\n",
      " [6.90258390e-02 9.30974161e-01]\n",
      " [9.78406187e-01 2.15938130e-02]\n",
      " [3.16191663e-01 6.83808337e-01]\n",
      " [9.99569316e-01 4.30683538e-04]\n",
      " [9.99289266e-01 7.10733806e-04]\n",
      " [9.98617113e-01 1.38288660e-03]\n",
      " [6.73530032e-03 9.93264700e-01]\n",
      " [2.79123616e-01 7.20876384e-01]\n",
      " [8.48347088e-01 1.51652912e-01]\n",
      " [1.38702386e-02 9.86129761e-01]\n",
      " [6.78868078e-01 3.21131922e-01]\n",
      " [9.73347682e-01 2.66523180e-02]\n",
      " [3.84956347e-01 6.15043653e-01]\n",
      " [4.62439422e-04 9.99537561e-01]\n",
      " [1.31866350e-01 8.68133650e-01]\n",
      " [2.55452397e-02 9.74454760e-01]\n",
      " [1.26223679e-03 9.98737763e-01]\n",
      " [9.79372545e-01 2.06274555e-02]\n",
      " [9.98621260e-01 1.37873972e-03]\n",
      " [8.65920003e-01 1.34079997e-01]\n",
      " [5.35165667e-02 9.46483433e-01]\n",
      " [6.13060505e-01 3.86939495e-01]\n",
      " [1.76564398e-02 9.82343560e-01]\n",
      " [6.03668761e-02 9.39633124e-01]\n",
      " [7.30066660e-04 9.99269933e-01]\n",
      " [9.57435991e-01 4.25640088e-02]\n",
      " [9.99729588e-01 2.70412033e-04]\n",
      " [1.03103164e-03 9.98968968e-01]\n",
      " [4.49089325e-01 5.50910675e-01]\n",
      " [7.07065918e-01 2.92934082e-01]\n",
      " [9.53658424e-01 4.63415759e-02]\n",
      " [7.39163845e-03 9.92608362e-01]\n",
      " [7.13139973e-03 9.92868600e-01]\n",
      " [7.63083865e-01 2.36916135e-01]\n",
      " [4.51135902e-02 9.54886410e-01]\n",
      " [3.58731439e-02 9.64126856e-01]\n",
      " [2.14177237e-02 9.78582276e-01]\n",
      " [9.01818427e-04 9.99098182e-01]\n",
      " [6.92256650e-02 9.30774335e-01]\n",
      " [5.82658543e-01 4.17341457e-01]\n",
      " [7.41564110e-01 2.58435890e-01]\n",
      " [9.73678036e-01 2.63219636e-02]\n",
      " [8.92922352e-04 9.99107078e-01]\n",
      " [9.73690598e-01 2.63094016e-02]\n",
      " [1.05201621e-01 8.94798379e-01]\n",
      " [7.11032287e-01 2.88967713e-01]\n",
      " [9.84177142e-01 1.58228585e-02]\n",
      " [6.82375986e-02 9.31762401e-01]\n",
      " [9.96284627e-01 3.71537329e-03]\n",
      " [9.80543728e-01 1.94562715e-02]\n",
      " [4.32321577e-01 5.67678423e-01]\n",
      " [5.60605214e-03 9.94393948e-01]\n",
      " [3.17943487e-02 9.68205651e-01]\n",
      " [6.05026156e-01 3.94973844e-01]\n",
      " [5.02583204e-02 9.49741680e-01]\n",
      " [1.37533962e-01 8.62466038e-01]\n",
      " [6.05053774e-02 9.39494623e-01]\n",
      " [1.41463461e-02 9.85853654e-01]\n",
      " [7.16913413e-02 9.28308659e-01]\n",
      " [5.80141431e-01 4.19858569e-01]\n",
      " [6.96008564e-03 9.93039914e-01]\n",
      " [9.99288255e-01 7.11745052e-04]\n",
      " [3.12738505e-02 9.68726149e-01]\n",
      " [1.52011808e-01 8.47988192e-01]\n",
      " [7.22998632e-03 9.92770014e-01]\n",
      " [5.61069414e-03 9.94389306e-01]\n",
      " [3.02604233e-02 9.69739577e-01]\n",
      " [9.73656952e-01 2.63430476e-02]\n",
      " [3.36641574e-03 9.96633584e-01]\n",
      " [8.68219799e-02 9.13178020e-01]\n",
      " [2.81415772e-01 7.18584228e-01]\n",
      " [2.28223775e-02 9.77177623e-01]\n",
      " [5.55230057e-03 9.94447699e-01]\n",
      " [7.97210005e-01 2.02789995e-01]\n",
      " [5.64739954e-01 4.35260046e-01]\n",
      " [9.99967836e-01 3.21637393e-05]\n",
      " [1.60943031e-02 9.83905697e-01]\n",
      " [1.75433120e-02 9.82456688e-01]\n",
      " [4.26353180e-02 9.57364682e-01]\n",
      " [9.90795068e-01 9.20493249e-03]]\n"
     ]
    }
   ],
   "source": [
    "#Paquete\n",
    "from sklearn.metrics import roc_curve\n",
    "\n",
    "#Obtención de las probabilidades de los datos de entrada\n",
    "targetPredProbaLR = modelLR.predict_proba(dataTest)\n",
    "print(targetPredProbaLR)"
   ]
  },
  {
   "cell_type": "code",
   "execution_count": 24,
   "metadata": {},
   "outputs": [
    {
     "data": {
      "image/png": "[encoded data removed]",
      "text/plain": [
       "<Figure size 432x288 with 1 Axes>"
      ]
     },
     "metadata": {},
     "output_type": "display_data"
    }
   ],
   "source": [
    "#Obtención curva ROC\n",
    "memLR, unomenosespecLR, umbralLR = roc_curve(targetTest, targetPredProbaLR[:,1])\n",
    "\n",
    "#Pintar Curva ROC\n",
    "plt.title('ROC Regresión Logística')\n",
    "plt.plot(memLR, unomenosespecLR)\n",
    "plt.plot([0,1],[0,1], linestyle = '--')\n",
    "plt.xlim([0.0,1.0])\n",
    "plt.ylim([0.0,1.0])\n",
    "plt.xlabel('1 - especificidad')\n",
    "plt.ylabel('memoria')\n",
    "plt.show()"
   ]
  },
  {
   "cell_type": "code",
   "execution_count": 25,
   "metadata": {},
   "outputs": [
    {
     "data": {
      "image/png": "[encoded data removed]",
      "text/plain": [
       "<Figure size 432x288 with 1 Axes>"
      ]
     },
     "metadata": {},
     "output_type": "display_data"
    }
   ],
   "source": [
    "targetPredProbaDT = modelDT.predict_proba(dataTest)\n",
    "\n",
    "#Obtención curva ROC\n",
    "memDT, unomenosespecDT, umbralDT = roc_curve(targetTest, targetPredProbaDT[:,1])\n",
    "\n",
    "#Pintar Curva ROC\n",
    "plt.title('ROC Árbol de decisión')\n",
    "plt.plot(memDT, unomenosespecDT)\n",
    "plt.plot([0,1],[0,1], linestyle = '--')\n",
    "plt.xlim([0.0,1.0])\n",
    "plt.ylim([0.0,1.0])\n",
    "plt.xlabel('1 - especificidad')\n",
    "plt.ylabel('memoria')\n",
    "plt.show()"
   ]
  },
  {
   "cell_type": "raw",
   "metadata": {},
   "source": [
    "Un parámetro interesante es también el área debajo de la curva "
   ]
  },
  {
   "cell_type": "code",
   "execution_count": 13,
   "metadata": {},
   "outputs": [],
   "source": [
    "#Paquete\n",
    "from sklearn.metrics import roc_auc_score\n",
    "\n",
    "print('Área por debajo de la curva de la regresión logística: ', roc_auc_score(targetTest,targetPredProbaLR[:,1]))\n",
    "print('Área por debajo de la curva del árbol de decisión: ', roc_auc_score(targetTest,targetPredProbaDT[:,1]))"
   ]
  },
  {
   "cell_type": "raw",
   "metadata": {},
   "source": [
    "Sobre las guías de usuario de estos 3 paquetes puede encontrar todas sus funcionalidades. En los siguientes código usaremos más funciones de ellos:\n",
    "- Scikit-learn: https://scikit-learn.org/stable/user_guide.html\n",
    "- Pandas: https://pandas.pydata.org/docs/user_guide/index.html\n",
    "- Numpy: https://numpy.org/doc/stable/\n",
    "- Imbalanced-learn: https://imbalanced-learn.readthedocs.io/en/stable/user_guide.html\n",
    "- Pickle: https://docs.python.org/3/library/pickle.html\n",
    "- Seaborn: https://seaborn.pydata.org/installing.html\n",
    "- Matplotlib: https://matplotlib.org/users/index.html"
   ]
  }
 ],
 "metadata": {
  "kernelspec": {
   "display_name": "Python 3",
   "language": "python",
   "name": "python3"
  },
  "language_info": {
   "codemirror_mode": {
    "name": "ipython",
    "version": 3
   },
   "file_extension": ".py",
   "mimetype": "text/x-python",
   "name": "python",
   "nbconvert_exporter": "python",
   "pygments_lexer": "ipython3",
   "version": "3.7.6"
  }
 },
 "nbformat": 4,
 "nbformat_minor": 4
}
